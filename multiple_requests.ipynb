{
 "cells": [
  {
   "cell_type": "code",
   "execution_count": null,
   "metadata": {},
   "outputs": [],
   "source": [
    "# REMEMBER TO PUT A TIME.SLEEP(10) OR HIGHER\n",
    "\n",
    "import requests\n",
    "import concurrent.futures\n",
    "\n",
    "# Função para fazer uma requisição à API\n",
    "def fazer_requisicao(url):\n",
    "    response = requests.get(url)\n",
    "    # Você pode adicionar aqui o processamento da resposta da requisição, se necessário\n",
    "    return response.json()\n",
    "\n",
    "# Lista de URLs da API que deseja acessar\n",
    "urls = [\n",
    "    \"https://seedz-api-70k9.onrender.com/cities/list\",\n",
    "    \"https://seedz-api-70k9.onrender.com/cities/list\",\n",
    "    \"https://seedz-api-70k9.onrender.com/cities/list\",\n",
    "    # Adicione mais URLs da API, se necessário\n",
    "]\n",
    "\n",
    "# Criando um executor para executar as requisições em paralelo\n",
    "with concurrent.futures.ThreadPoolExecutor() as executor:\n",
    "    # Fazendo as requisições em paralelo e obtendo os resultados\n",
    "    resultados = executor.map(fazer_requisicao, urls)\n",
    "\n",
    "    # Iterando sobre os resultados\n",
    "    for resultado in resultados:\n",
    "        # Processando os resultados das requisições, se necessário\n",
    "        print(resultado)"
   ]
  }
 ],
 "metadata": {
  "language_info": {
   "name": "python"
  },
  "orig_nbformat": 4
 },
 "nbformat": 4,
 "nbformat_minor": 2
}
